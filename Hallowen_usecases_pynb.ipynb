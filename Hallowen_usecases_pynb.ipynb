{
  "nbformat": 4,
  "nbformat_minor": 0,
  "metadata": {
    "colab": {
      "provenance": []
    },
    "kernelspec": {
      "name": "python3",
      "display_name": "Python 3"
    },
    "language_info": {
      "name": "python"
    }
  },
  "cells": [
    {
      "cell_type": "markdown",
      "source": [
        "# **Using TextBlob to Analyze Trends**"
      ],
      "metadata": {
        "id": "qfE6NVMIw4Hh"
      }
    },
    {
      "cell_type": "code",
      "source": [
        "from textblob import TextBlob\n",
        "tweets = [\n",
        "    \"Loved the new vampire costumes!\",\n",
        "    \"This year's spooky clown trend is real!\",\n",
        "    \"The haunted house on Elm Street was scarier than ever! 🎃👻\",\n",
        "    \"Can't believe I saw 5 people dressed as Wednesday Addams. Classic! 🖤\",\n",
        "    \"The pumpkin spice latte is overrated. Change my mind! ☕️🎃\",\n",
        "    \"The werewolf makeup tutorials are getting better every year! 🐺💀\",\n",
        "    \"Who else thinks the ghost decorations are getting a little too realistic? 😱\",\n",
        "    \"This year, the candy corn appreciation club is bigger than ever! 🍬\",\n",
        "    \"Gotta hand it to the neighbors; their graveyard setup looks like a movie set! 🪦🎃\",\n",
        "    \"Saw so many Stranger Things costumes this year! The hype is real. 👾\",\n",
        "    \"Why are the candy bars getting smaller every Halloween? Not cool! 🍫\",\n",
        "    \"The Halloween playlist with eerie soundtracks made the party so much spookier. 🎶👻\",\n",
        "    \"Who else carved a pumpkin masterpiece this weekend? 🎃✨\",\n",
        "    \"Binge-watching horror movies all night. Halloween is the best! 📺😈\",\n",
        "    \"Did anyone see the giant inflatable spider at the Johnsons' house? Terrifying! 🕷\",\n",
        "    \"Candy overload this year! Thanks to the extra-large trick-or-treat bags. 🍭🎃\",\n",
        "    \"The Harry Potter-themed haunted house was magical and spooky at the same time! 🧙‍♂️💀\",\n",
        "    \"Not sure how I feel about the creepy clown trend. Those masks are terrifying! 🤡\",\n",
        "    \"The neighborhood turned into a haunted carnival tonight. Such a spooky vibe! 🎠👻\",\n",
        "    \"Pumpkin-flavored everything is back, and I’m loving it! 🎃\",\n",
        "    \"The fog machine added such a cool effect to our haunted house! 🌫️👻\",\n",
        "    \"Kids loved the glow-in-the-dark skeleton costumes. Genius idea! 💀✨\",\n",
        "    \"Anyone else dressed up as their favorite movie character this year? 🎬\",\n",
        "    \"The scarecrow decorations are looking way too real... it's creeping me out! 🌾😨\",\n",
        "    \"The DIY mummy costume I made was a hit! Toilet paper for the win! 🧻💀\",\n",
        "    \"Just finished making candy bags for the neighborhood kids. Let's see who grabs the most! 🍬🎃\",\n",
        "    \"Spider web decorations are all over the place! It’s a real spooky setup. 🕸️\",\n",
        "    \"This haunted corn maze was an absolute nightmare! Never again. 🌽👻\"\n",
        "]\n",
        "\n",
        "sentiments = [TextBlob(tweet).sentiment.polarity for tweet in tweets]\n",
        "popular_trends = [tweet for i, tweet in enumerate(tweets) if sentiments[i] > 0.5]\n",
        "print(\"Popular trends:\", popular_trends)\n"
      ],
      "metadata": {
        "colab": {
          "base_uri": "https://localhost:8080/"
        },
        "id": "v5SFIknNw2cS",
        "outputId": "1ddc4fe2-2e3a-47d1-de00-153f404a1f16"
      },
      "execution_count": 2,
      "outputs": [
        {
          "output_type": "stream",
          "name": "stdout",
          "text": [
            "Popular trends: ['The werewolf makeup tutorials are getting better every year! 🐺💀', 'Binge-watching horror movies all night. Halloween is the best! 📺😈', 'Kids loved the glow-in-the-dark skeleton costumes. Genius idea! 💀✨', \"Just finished making candy bags for the neighborhood kids. Let's see who grabs the most! 🍬🎃\"]\n"
          ]
        }
      ]
    },
    {
      "cell_type": "markdown",
      "source": [
        "# **Using Keras to Create an LSTM Model**"
      ],
      "metadata": {
        "id": "2jz-5uyiT3jq"
      }
    },
    {
      "cell_type": "code",
      "source": [
        "from tensorflow.keras.models import Sequential\n",
        "from tensorflow.keras.layers import LSTM, Dense, Embedding\n",
        "from tensorflow.keras.preprocessing.text import Tokenizer\n",
        "from tensorflow.keras.preprocessing.sequence import pad_sequences\n",
        "import numpy as np\n",
        "\n",
        "# Step 0: Define the LSTM Model (This should be done before using the model)\n",
        "model = Sequential()\n",
        "model.add(Embedding(input_dim=1000, output_dim=64, input_length=100))\n",
        "model.add(LSTM(128))\n",
        "model.add(Dense(1, activation='sigmoid'))\n",
        "model.compile(optimizer='adam', loss='binary_crossentropy', metrics=['accuracy'])\n",
        "print(\"LSTM model created for spooky sentiment analysis!\")\n",
        "\n",
        "# Example tweets (input for testing)\n",
        "test_tweets = [\n",
        "    \"Loved the new vampire costumes!\",\n",
        "    \"This year's spooky clown trend is real!\",\n",
        "    \"The haunted house on Elm Street was scarier than ever! 🎃👻\",\n",
        "    \"Not sure how I feel about the creepy clown trend. Those masks are terrifying! 🤡\",\n",
        "    \"Pumpkin-flavored everything is back, and I’m loving it! 🎃\"\n",
        "]\n",
        "\n",
        "# Step 1: Tokenize the input data\n",
        "tokenizer = Tokenizer(num_words=1000)  # Keeping the vocabulary size same as input_dim of Embedding layer\n",
        "tokenizer.fit_on_texts(test_tweets)\n",
        "\n",
        "# Convert texts to sequences of numbers\n",
        "sequences = tokenizer.texts_to_sequences(test_tweets)\n",
        "\n",
        "# Step 2: Pad the sequences to the same length as the input_length of the Embedding layer\n",
        "padded_sequences = pad_sequences(sequences, maxlen=100)\n",
        "\n",
        "# Step 3: Make predictions using the trained model\n",
        "predictions = model.predict(padded_sequences)\n",
        "\n",
        "# Step 4: Interpret and print the results\n",
        "for i, tweet in enumerate(test_tweets):\n",
        "    sentiment = \"Positive\" if predictions[i][0] > 0.5 else \"Negative\"\n",
        "    print(f\"Tweet: '{tweet}' - Sentiment: {sentiment} (Confidence: {predictions[i][0]:.2f})\")\n"
      ],
      "metadata": {
        "colab": {
          "base_uri": "https://localhost:8080/"
        },
        "id": "SZ3p1dv-T2Wr",
        "outputId": "9b0e82f7-34f1-46d2-c7ec-b1e13611b28d"
      },
      "execution_count": 3,
      "outputs": [
        {
          "output_type": "stream",
          "name": "stderr",
          "text": [
            "/usr/local/lib/python3.10/dist-packages/keras/src/layers/core/embedding.py:90: UserWarning: Argument `input_length` is deprecated. Just remove it.\n",
            "  warnings.warn(\n"
          ]
        },
        {
          "output_type": "stream",
          "name": "stdout",
          "text": [
            "LSTM model created for spooky sentiment analysis!\n",
            "\u001b[1m1/1\u001b[0m \u001b[32m━━━━━━━━━━━━━━━━━━━━\u001b[0m\u001b[37m\u001b[0m \u001b[1m1s\u001b[0m 715ms/step\n",
            "Tweet: 'Loved the new vampire costumes!' - Sentiment: Positive (Confidence: 0.50)\n",
            "Tweet: 'This year's spooky clown trend is real!' - Sentiment: Negative (Confidence: 0.50)\n",
            "Tweet: 'The haunted house on Elm Street was scarier than ever! 🎃👻' - Sentiment: Positive (Confidence: 0.50)\n",
            "Tweet: 'Not sure how I feel about the creepy clown trend. Those masks are terrifying! 🤡' - Sentiment: Negative (Confidence: 0.50)\n",
            "Tweet: 'Pumpkin-flavored everything is back, and I’m loving it! 🎃' - Sentiment: Positive (Confidence: 0.50)\n"
          ]
        }
      ]
    },
    {
      "cell_type": "markdown",
      "source": [
        "# **Building an ARIMA Model to Forecast Sales**"
      ],
      "metadata": {
        "id": "sOr9eDaVT7nK"
      }
    },
    {
      "cell_type": "code",
      "source": [
        "from statsmodels.tsa.arima.model import ARIMA\n",
        "import numpy as np\n",
        "\n",
        "# Example sales data for Halloween\n",
        "sales_data = np.array([150, 180, 220, 300, 420, 500])\n",
        "model = ARIMA(sales_data, order=(1, 1, 1))\n",
        "model_fit = model.fit()\n",
        "forecast = model_fit.forecast(steps=3)\n",
        "print(\"Forecasted sales for next 3 days:\", forecast)\n"
      ],
      "metadata": {
        "colab": {
          "base_uri": "https://localhost:8080/"
        },
        "id": "UiJ0HGnYT8Dp",
        "outputId": "3cbc3637-f2f4-4ebe-c2a9-5051ffcde764"
      },
      "execution_count": 4,
      "outputs": [
        {
          "output_type": "stream",
          "name": "stdout",
          "text": [
            "Forecasted sales for next 3 days: [531.704987   553.31977217 568.05559079]\n"
          ]
        },
        {
          "output_type": "stream",
          "name": "stderr",
          "text": [
            "/usr/local/lib/python3.10/dist-packages/statsmodels/tsa/statespace/sarimax.py:978: UserWarning: Non-invertible starting MA parameters found. Using zeros as starting parameters.\n",
            "  warn('Non-invertible starting MA parameters found.'\n"
          ]
        }
      ]
    },
    {
      "cell_type": "markdown",
      "source": [
        "# **Implementing K-Means Clustering**"
      ],
      "metadata": {
        "id": "4F3HBD9LUoZm"
      }
    },
    {
      "cell_type": "code",
      "source": [
        "from sklearn.cluster import KMeans\n",
        "import pandas as pd\n",
        "\n",
        "# Example candy preference dataset\n",
        "data = {\n",
        "    'Candy': ['Chocolates', 'Lollipops', 'Gummies', 'Candied Apples'],\n",
        "    'Popularity_Score': [9, 5, 7, 3]\n",
        "}\n",
        "\n",
        "# Create a DataFrame\n",
        "df = pd.DataFrame(data)\n",
        "\n",
        "# Apply KMeans clustering\n",
        "kmeans = KMeans(n_clusters=2, random_state=0).fit(df[['Popularity_Score']])\n",
        "df['Cluster'] = kmeans.labels_\n",
        "\n",
        "# Display the DataFrame with clusters\n",
        "print(df)\n"
      ],
      "metadata": {
        "colab": {
          "base_uri": "https://localhost:8080/"
        },
        "id": "LN4SJ9D5UiqA",
        "outputId": "c67fa359-96ac-4da6-e3ec-a1e00abc562b"
      },
      "execution_count": 5,
      "outputs": [
        {
          "output_type": "stream",
          "name": "stdout",
          "text": [
            "            Candy  Popularity_Score  Cluster\n",
            "0      Chocolates                 9        0\n",
            "1       Lollipops                 5        0\n",
            "2         Gummies                 7        0\n",
            "3  Candied Apples                 3        1\n"
          ]
        }
      ]
    }
  ]
}